{
  "nbformat": 4,
  "nbformat_minor": 0,
  "metadata": {
    "colab": {
      "provenance": []
    },
    "kernelspec": {
      "name": "python3",
      "display_name": "Python 3"
    },
    "language_info": {
      "name": "python"
    }
  },
  "cells": [
    {
      "cell_type": "code",
      "execution_count": null,
      "metadata": {
        "colab": {
          "base_uri": "https://localhost:8080/"
        },
        "id": "bfKZJg0z708T",
        "outputId": "91335eba-7764-4bf7-e3f5-e0f5ff867d70"
      },
      "outputs": [
        {
          "output_type": "stream",
          "name": "stdout",
          "text": [
            "Number of pairs with sum equals to 10 is: 2\n"
          ]
        }
      ],
      "source": [
        "def count_sum(list_nums):\n",
        "  count=0\n",
        "  n=len(list_nums)\n",
        "\n",
        "  for i in range(n):\n",
        "    for j in range(i+1,n):\n",
        "      if list_nums[i]+list_nums[j]==10:\n",
        "        count+=1\n",
        "  return count\n",
        "\n",
        "list_nums=[2, 7, 4, 1, 3, 6]\n",
        "output=count_sum(list_nums)\n",
        "print(\"Number of pairs with sum equals to 10 is:\",output)"
      ]
    },
    {
      "cell_type": "code",
      "source": [
        "def range_nums(list_nums):\n",
        "    if len(list_nums) < 3:\n",
        "        return \"Range determination not possible\"\n",
        "\n",
        "    max_value = max(nums)\n",
        "    min_value = min(nums)\n",
        "    range_value = max_value - min_value\n",
        "    return range_value\n",
        "\n",
        "nums = [5, 3, 8, 1, 0, 4]\n",
        "output=range_nums(list_nums)\n",
        "print(\"The range of the given list is:\",output)"
      ],
      "metadata": {
        "colab": {
          "base_uri": "https://localhost:8080/"
        },
        "id": "5TKfg_tf784Z",
        "outputId": "48994742-fe69-46d5-c609-22a1d0c8e683"
      },
      "execution_count": null,
      "outputs": [
        {
          "output_type": "stream",
          "name": "stdout",
          "text": [
            "The range of the given list is: 8\n"
          ]
        }
      ]
    },
    {
      "cell_type": "code",
      "source": [
        "def matrix(A, B):\n",
        "        n = len(A)\n",
        "        output = []\n",
        "        for i in range(n):\n",
        "            row = []\n",
        "            for j in range(n):\n",
        "                sum = 0\n",
        "                for k in range(n):\n",
        "                    sum += A[i][k] * B[k][j]\n",
        "                row.append(sum)\n",
        "            output.append(row)\n",
        "        return output\n",
        "def identity_matrix(n):\n",
        "        I = []\n",
        "        for i in range(n):\n",
        "            row = []\n",
        "            for j in range(n):\n",
        "                if i == j:\n",
        "                    row.append(1)\n",
        "                else:\n",
        "                    row.append(0)\n",
        "            I.append(row)\n",
        "        return I\n",
        "\n",
        "def matrix_power(A, m):\n",
        "        n = len(A)\n",
        "        if m == 0:\n",
        "            return identity_matrix(n)\n",
        "\n",
        "        result = A\n",
        "        for _ in range(m - 1):\n",
        "            output = matrix(result, A)\n",
        "\n",
        "        return output\n",
        "print(\"enter no.of rows in a matrix\")\n",
        "A=int(input())\n",
        "print(\"enter no.of columns in a matrix\")\n",
        "B=int(input())\n",
        "print(\"elements of matrix\")\n",
        "M=[]\n",
        "element=0\n",
        "for i in range(A):\n",
        "    r=[]\n",
        "    for j in range(B):\n",
        "        element=int(input(\"enter element in a matrix:\"))\n",
        "        r.append(element)\n",
        "    M.append(r)\n",
        "N=int(input(\"enter the number:\"))\n",
        "output=matrix_power(M,N)\n",
        "print(output)"
      ],
      "metadata": {
        "colab": {
          "base_uri": "https://localhost:8080/"
        },
        "id": "ooC86FAoBEQP",
        "outputId": "63ca1695-7795-4877-ac9d-c6ff703ebce0"
      },
      "execution_count": null,
      "outputs": [
        {
          "output_type": "stream",
          "name": "stdout",
          "text": [
            "enter no.of rows in a matrix\n",
            "2\n",
            "enter no.of columns in a matrix\n",
            "2\n",
            "elements of matrix\n",
            "enter element in a matrix:3\n",
            "enter element in a matrix:4\n",
            "enter element in a matrix:5\n",
            "enter element in a matrix:2\n",
            "enter the number:2\n",
            "[[29, 20], [25, 24]]\n"
          ]
        }
      ]
    },
    {
      "cell_type": "code",
      "source": [
        "def occurrence(input):\n",
        "    char_count = {}\n",
        "\n",
        "    for char in input:\n",
        "        if char.isalpha():\n",
        "            char = char.lower()\n",
        "            if char in char_count:\n",
        "                char_count[char] += 1\n",
        "            else:\n",
        "                char_count[char] = 1\n",
        "\n",
        "    max_char = ''\n",
        "    max_count = 0\n",
        "\n",
        "    for char, count in char_count.items():\n",
        "        if count > max_count:\n",
        "            max_char = char\n",
        "            max_count = count\n",
        "\n",
        "    return max_char, max_count\n",
        "\n",
        "input = \"hippopotamus\"\n",
        "max_char, max_count = occurrence(input)\n",
        "print(f\"The maximum occurring character is '{max_char}' and the occurrence count is {max_count}.\")\n"
      ],
      "metadata": {
        "colab": {
          "base_uri": "https://localhost:8080/"
        },
        "id": "6PX5IqjhDE6w",
        "outputId": "9db94451-2b37-421b-c524-9750b354f303"
      },
      "execution_count": null,
      "outputs": [
        {
          "output_type": "stream",
          "name": "stdout",
          "text": [
            "The maximum occurring character is 'p' and the occurrence count is 3.\n"
          ]
        }
      ]
    }
  ]
}